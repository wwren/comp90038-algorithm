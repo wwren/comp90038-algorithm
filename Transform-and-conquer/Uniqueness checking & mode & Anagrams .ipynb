{
 "cells": [
  {
   "cell_type": "markdown",
   "metadata": {},
   "source": [
    "### Uniqueness checking "
   ]
  },
  {
   "cell_type": "code",
   "execution_count": 1,
   "metadata": {},
   "outputs": [],
   "source": [
    "# First need to sort the array --> merge sort/ quick sort average case nlogn\n",
    "def uniqueCheck(A, n):\n",
    "    for i in range(0, n-1):\n",
    "        if A[i] == A[i+1]:\n",
    "            return False\n",
    "    return True "
   ]
  },
  {
   "cell_type": "code",
   "execution_count": 2,
   "metadata": {},
   "outputs": [],
   "source": [
    "A = [1, 1, 2, 3, 4, 6]\n",
    "n = len(A)"
   ]
  },
  {
   "cell_type": "code",
   "execution_count": 3,
   "metadata": {},
   "outputs": [
    {
     "data": {
      "text/plain": [
       "False"
      ]
     },
     "execution_count": 3,
     "metadata": {},
     "output_type": "execute_result"
    }
   ],
   "source": [
    "uniqueCheck(A,n)"
   ]
  },
  {
   "cell_type": "code",
   "execution_count": 4,
   "metadata": {},
   "outputs": [],
   "source": [
    "A = [1, 2, 3, 4, 6]\n",
    "n = len(A)"
   ]
  },
  {
   "cell_type": "code",
   "execution_count": 5,
   "metadata": {},
   "outputs": [
    {
     "data": {
      "text/plain": [
       "True"
      ]
     },
     "execution_count": 5,
     "metadata": {},
     "output_type": "execute_result"
    }
   ],
   "source": [
    "uniqueCheck(A,n)"
   ]
  },
  {
   "cell_type": "markdown",
   "metadata": {},
   "source": [
    "### Find the mode"
   ]
  },
  {
   "cell_type": "code",
   "execution_count": 9,
   "metadata": {},
   "outputs": [],
   "source": [
    "def modeFind(A, n):\n",
    "    maxRunLength = 0\n",
    "    i = 0\n",
    "    mode = 0\n",
    "    while i < n:\n",
    "        runLength = 1\n",
    "        while i+runLength < n and A[i+runLength] == A[i]:\n",
    "            runLength +=1\n",
    "        if runLength > maxRunLength: \n",
    "            maxRunLength = runLength \n",
    "            mode = A[i]\n",
    "        i += runLength\n",
    "    return mode"
   ]
  },
  {
   "cell_type": "code",
   "execution_count": 10,
   "metadata": {},
   "outputs": [],
   "source": [
    "A = [1,1,2,3]\n",
    "n = len(A)"
   ]
  },
  {
   "cell_type": "code",
   "execution_count": 11,
   "metadata": {},
   "outputs": [
    {
     "data": {
      "text/plain": [
       "1"
      ]
     },
     "execution_count": 11,
     "metadata": {},
     "output_type": "execute_result"
    }
   ],
   "source": [
    "modeFind(A, n)"
   ]
  },
  {
   "cell_type": "markdown",
   "metadata": {},
   "source": [
    "### Anagrams "
   ]
  },
  {
   "cell_type": "code",
   "execution_count": 18,
   "metadata": {},
   "outputs": [],
   "source": [
    "# Exhausive search \n",
    "words = ['bat', 'rat', 'god', 'dog', 'cat', 'arts', 'star']\n",
    "sort_word ={}\n",
    "for word in words:\n",
    "    sort_word[word] = ''.join(sorted(word))\n",
    "anagrams = []\n",
    "for i in range (len(words)):\n",
    "    ana = [words[i]]\n",
    "    for j in range(i+1, len(words)):\n",
    "        if sort_word[words[i]] == sort_word[words[j]]:\n",
    "            ana.append(words[j])\n",
    "    if len(ana) != 1:\n",
    "        anagrams.append(ana)\n",
    "    "
   ]
  },
  {
   "cell_type": "code",
   "execution_count": 19,
   "metadata": {},
   "outputs": [
    {
     "data": {
      "text/plain": [
       "['a', 'b', 't']"
      ]
     },
     "execution_count": 19,
     "metadata": {},
     "output_type": "execute_result"
    }
   ],
   "source": [
    "sorted('bat')"
   ]
  },
  {
   "cell_type": "code",
   "execution_count": 20,
   "metadata": {},
   "outputs": [
    {
     "name": "stdout",
     "output_type": "stream",
     "text": [
      "[['god', 'dog'], ['arts', 'star']]\n"
     ]
    }
   ],
   "source": [
    "print(anagrams)"
   ]
  },
  {
   "cell_type": "code",
   "execution_count": null,
   "metadata": {},
   "outputs": [],
   "source": []
  }
 ],
 "metadata": {
  "kernelspec": {
   "display_name": "Python 3",
   "language": "python",
   "name": "python3"
  },
  "language_info": {
   "codemirror_mode": {
    "name": "ipython",
    "version": 3
   },
   "file_extension": ".py",
   "mimetype": "text/x-python",
   "name": "python",
   "nbconvert_exporter": "python",
   "pygments_lexer": "ipython3",
   "version": "3.7.1"
  }
 },
 "nbformat": 4,
 "nbformat_minor": 2
}
