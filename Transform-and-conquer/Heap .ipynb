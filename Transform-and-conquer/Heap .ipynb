{
 "cells": [
  {
   "cell_type": "markdown",
   "metadata": {},
   "source": [
    "### Heap\n",
    "*Defination* <br>\n",
    "Heap is a data structure for priority queue. Priority queue is a set of elements. An element is injected into the priority queue together with a priority. <br>\n",
    "\n",
    "*Requirement* <br>\n",
    "(1) Complete tree: each level apart from the last level is filled up <br>\n",
    "(2) Parent dominance: child nodes are smaller than parent nodes at all level <br> \n",
    "\n",
    "*Property* <br>\n",
    "(1) Height is equal to floor(log2)<br>\n",
    "(2) H\\[1\\] is the maximum <br>\n",
    "(3) for all i $\\in$ \\{1, 2,..,n\\}, H\\[i\\] $\\leq$ max\\{ H\\[2i\\], H\\[2i+1\\]\\} <br>\n",
    "(4) Parent nodes are in the first floor(n/2) positions\n",
    "\n",
    "*Insertion* <br>\n",
    "Place the new item at the end \\& let it climb up --> worst condition is to climb all the way up to the top with height $log(n)$<br>\n",
    "\n",
    "*Construction* <br>\n",
    "(1) Insertion for n nodes and maintain order for each one $nlog(n)$ <br>\n",
    "\n",
    "(2) Bottom up construction $n$ <br>\n",
    "\n",
    "*Ejecting a maximum element* <br>\n",
    "(1) Swap the largest element (the root) with the last element z in the heap <br>\n",
    "(2) Sift-down z to its proper place --> maximum $log(n)$ shifts\n",
    "\n",
    "*Heapsort* <br> \n",
    "(1) Given unsorted array, first turn it into a heap <br>\n",
    "(2) Apply the eject operation n-1 times <br>\n",
    "(3) In both worst and average case: $nlogn$"
   ]
  },
  {
   "cell_type": "markdown",
   "metadata": {},
   "source": [
    "#### Heap construction: bottom-up"
   ]
  },
  {
   "cell_type": "code",
   "execution_count": 16,
   "metadata": {},
   "outputs": [],
   "source": [
    "def heapBottomUp(H, n):\n",
    "    for i in range(n//2, 0, -1):       # iterate through the parent nodes. Start from the subtree at the bottom \n",
    "        k = i                          # placeholder for swap \n",
    "        v = H[k]                       # get the value of parent nodes\n",
    "        heap = False \n",
    "        while not heap and 2*k <= n:   # index is still in heap \n",
    "            j = 2* k                   # j to access its child\n",
    "            if j < n:               \n",
    "                if H[j] < H[j+1]:      # find the larger child\n",
    "                    j = j+1 \n",
    "            if v >= H[j]:\n",
    "                heap = True            # the subtree is a heap, no need to do reconstruction \n",
    "            else:\n",
    "                H[k] = H[j]            # swap H[i] with H[j]\n",
    "                k = j\n",
    "        H[k] = v                       # swap H[j] with v ([placeholder for H[i])\n",
    "    return H\n"
   ]
  },
  {
   "cell_type": "code",
   "execution_count": 17,
   "metadata": {},
   "outputs": [],
   "source": [
    "H = [0, 2, 9, 7, 6, 5, 8, 3]\n",
    "n = len(H)-1"
   ]
  },
  {
   "cell_type": "code",
   "execution_count": 18,
   "metadata": {},
   "outputs": [
    {
     "data": {
      "text/plain": [
       "[0, 9, 6, 8, 2, 5, 7, 3]"
      ]
     },
     "execution_count": 18,
     "metadata": {},
     "output_type": "execute_result"
    }
   ],
   "source": [
    "bottomUp(H, n)"
   ]
  }
 ],
 "metadata": {
  "kernelspec": {
   "display_name": "Python 3",
   "language": "python",
   "name": "python3"
  },
  "language_info": {
   "codemirror_mode": {
    "name": "ipython",
    "version": 3
   },
   "file_extension": ".py",
   "mimetype": "text/x-python",
   "name": "python",
   "nbconvert_exporter": "python",
   "pygments_lexer": "ipython3",
   "version": "3.7.1"
  }
 },
 "nbformat": 4,
 "nbformat_minor": 2
}
