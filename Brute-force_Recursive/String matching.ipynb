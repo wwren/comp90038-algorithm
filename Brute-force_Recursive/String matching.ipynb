{
 "cells": [
  {
   "cell_type": "markdown",
   "metadata": {},
   "source": [
    "## String matching "
   ]
  },
  {
   "cell_type": "markdown",
   "metadata": {},
   "source": [
    "#### for loop"
   ]
  },
  {
   "cell_type": "code",
   "execution_count": 33,
   "metadata": {},
   "outputs": [],
   "source": [
    "def stringMatch(p, n, t, m):\n",
    "    for i in range(n-m+1):\n",
    "        for j in range(m):\n",
    "            if t[j] != p[i+j]:\n",
    "                break \n",
    "            #if statement inside the loop solve this corner solution \n",
    "            if j == m-1:\n",
    "                return i\n",
    "    return -1   "
   ]
  },
  {
   "cell_type": "code",
   "execution_count": 54,
   "metadata": {},
   "outputs": [],
   "source": [
    "p = \"nobody knows\"\n",
    "t = \"kon\"\n",
    "n = len(p)\n",
    "m = len(t)"
   ]
  },
  {
   "cell_type": "code",
   "execution_count": 55,
   "metadata": {},
   "outputs": [
    {
     "data": {
      "text/plain": [
       "-1"
      ]
     },
     "execution_count": 55,
     "metadata": {},
     "output_type": "execute_result"
    }
   ],
   "source": [
    "stringMatch(p, n, t, m)"
   ]
  },
  {
   "cell_type": "markdown",
   "metadata": {},
   "source": [
    "#### while loop"
   ]
  },
  {
   "cell_type": "code",
   "execution_count": 49,
   "metadata": {},
   "outputs": [],
   "source": [
    "def stringMatch(p, n, t, m):\n",
    "    for i in range(n-m+1):\n",
    "        j = 0\n",
    "        while j < m and p[i+j] == t[j]:           \n",
    "            if j == m-1:\n",
    "                return i\n",
    "            j += 1\n",
    "    return -1   "
   ]
  }
 ],
 "metadata": {
  "kernelspec": {
   "display_name": "Python 3",
   "language": "python",
   "name": "python3"
  },
  "language_info": {
   "codemirror_mode": {
    "name": "ipython",
    "version": 3
   },
   "file_extension": ".py",
   "mimetype": "text/x-python",
   "name": "python",
   "nbconvert_exporter": "python",
   "pygments_lexer": "ipython3",
   "version": "3.7.1"
  }
 },
 "nbformat": 4,
 "nbformat_minor": 2
}
