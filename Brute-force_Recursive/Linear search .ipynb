{
 "cells": [
  {
   "cell_type": "markdown",
   "metadata": {},
   "source": [
    "### Linear search (unordered array)"
   ]
  },
  {
   "cell_type": "code",
   "execution_count": null,
   "metadata": {},
   "outputs": [],
   "source": [
    "#iterate through the array \n",
    "# input A - array\n",
    "#       n - key\n",
    "def linearSearch(A, n):\n",
    "    for i in range(len(A)):\n",
    "        if A[i] == n:\n",
    "            return i\n",
    "    # look through entire array, no key found \n",
    "    \n",
    "        return -1"
   ]
  },
  {
   "cell_type": "code",
   "execution_count": 10,
   "metadata": {},
   "outputs": [],
   "source": [
    "def linearSearch(A, n):\n",
    "    for i in range(len(A)):\n",
    "        if A[i] == n:\n",
    "            return i\n",
    "    # look through entire array, no key found \n",
    "    # note i\n",
    "    return -1"
   ]
  },
  {
   "cell_type": "code",
   "execution_count": 12,
   "metadata": {},
   "outputs": [
    {
     "data": {
      "text/plain": [
       "4"
      ]
     },
     "execution_count": 12,
     "metadata": {},
     "output_type": "execute_result"
    }
   ],
   "source": [
    "A =[1, 2, 3, 7, 9]\n",
    "linearSearch(A, 9)"
   ]
  },
  {
   "cell_type": "code",
   "execution_count": 1,
   "metadata": {},
   "outputs": [],
   "source": [
    "\n",
    "def find(A, x):\n",
    "    j = 0\n",
    "    while j < len(A):\n",
    "        if A[j] == x:\n",
    "            return j \n",
    "        j = j+1\n",
    "    return -1"
   ]
  },
  {
   "cell_type": "markdown",
   "metadata": {},
   "source": [
    "#### Recursive function"
   ]
  },
  {
   "cell_type": "code",
   "execution_count": null,
   "metadata": {},
   "outputs": [],
   "source": [
    "#input A - array\n",
    "#      n - key\n",
    "#      lo - beginning index of the range of search \n",
    "#      hi - ending index of the range of search\n",
    "def linearSearchR(A, n, lo, hi):\n",
    "    if lo >= hi:\n",
    "        return -1\n",
    "    if A[lo] == n:\n",
    "        return lo\n",
    "    else:\n",
    "        return linearSearchR(A, n, lo+1, hi)\n",
    "    "
   ]
  }
 ],
 "metadata": {
  "kernelspec": {
   "display_name": "Python 3",
   "language": "python",
   "name": "python3"
  },
  "language_info": {
   "codemirror_mode": {
    "name": "ipython",
    "version": 3
   },
   "file_extension": ".py",
   "mimetype": "text/x-python",
   "name": "python",
   "nbconvert_exporter": "python",
   "pygments_lexer": "ipython3",
   "version": "3.7.1"
  }
 },
 "nbformat": 4,
 "nbformat_minor": 2
}
