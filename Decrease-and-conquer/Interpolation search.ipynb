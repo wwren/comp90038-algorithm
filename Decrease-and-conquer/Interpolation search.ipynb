{
 "cells": [
  {
   "cell_type": "markdown",
   "metadata": {},
   "source": [
    "### Interploation search"
   ]
  },
  {
   "cell_type": "code",
   "execution_count": 13,
   "metadata": {},
   "outputs": [],
   "source": [
    "def interpolationSearch(A, n, k):\n",
    "    lo = 0\n",
    "    hi = n-1\n",
    "    while lo <= hi:\n",
    "        mid = lo + ((k - A[lo])//(A[hi] - A[lo]))*(hi-lo)\n",
    "        if A[mid] == k:\n",
    "            return mid\n",
    "        else:\n",
    "            if A[mid] > k:\n",
    "                hi = mid -1\n",
    "            else:\n",
    "                lo = mid +1\n",
    "    return -1"
   ]
  },
  {
   "cell_type": "code",
   "execution_count": 16,
   "metadata": {},
   "outputs": [],
   "source": [
    "A = [1, 2, 4, 6, 10, 22, 25, 31]\n",
    "n = len(A)\n",
    "k = 22"
   ]
  },
  {
   "cell_type": "code",
   "execution_count": 17,
   "metadata": {},
   "outputs": [
    {
     "data": {
      "text/plain": [
       "5"
      ]
     },
     "execution_count": 17,
     "metadata": {},
     "output_type": "execute_result"
    }
   ],
   "source": [
    "interpolationSearch(A, n, k)"
   ]
  },
  {
   "cell_type": "markdown",
   "metadata": {},
   "source": [
    "complexity is average O(log(logn))\n",
    "\n",
    "It is the right choise when elements are uniformally distributed"
   ]
  }
 ],
 "metadata": {
  "kernelspec": {
   "display_name": "Python 3",
   "language": "python",
   "name": "python3"
  },
  "language_info": {
   "codemirror_mode": {
    "name": "ipython",
    "version": 3
   },
   "file_extension": ".py",
   "mimetype": "text/x-python",
   "name": "python",
   "nbconvert_exporter": "python",
   "pygments_lexer": "ipython3",
   "version": "3.7.1"
  }
 },
 "nbformat": 4,
 "nbformat_minor": 2
}
