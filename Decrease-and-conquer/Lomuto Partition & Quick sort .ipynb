{
 "cells": [
  {
   "cell_type": "markdown",
   "metadata": {},
   "source": [
    "## Lomuto partition"
   ]
  },
  {
   "cell_type": "code",
   "execution_count": 21,
   "metadata": {},
   "outputs": [],
   "source": [
    "def lomutoPartition(A, lo, hi):\n",
    "    ''' input: A as array\n",
    "        lo element is kth smallest element\n",
    "        output: find the index lo is at after partition\n",
    "        lo is (k+1)th smallest element'''\n",
    "    p = A[lo]\n",
    "    s = lo\n",
    "    for i in range(lo+1, hi):\n",
    "        if A[i] < p:\n",
    "            s +=1\n",
    "            A[s], A[i] = A[i], A[s]\n",
    "    A[lo], A[s] = A[s], A[lo]\n",
    "    return s"
   ]
  },
  {
   "cell_type": "markdown",
   "metadata": {},
   "source": [
    "complexity is n, worst case => for loop"
   ]
  },
  {
   "cell_type": "code",
   "execution_count": 22,
   "metadata": {},
   "outputs": [],
   "source": [
    "A = [9, 3, 8, 41, 22, 23, 46]\n",
    "lo = 0\n",
    "hi = len(A)"
   ]
  },
  {
   "cell_type": "code",
   "execution_count": 23,
   "metadata": {},
   "outputs": [
    {
     "data": {
      "text/plain": [
       "2"
      ]
     },
     "execution_count": 23,
     "metadata": {},
     "output_type": "execute_result"
    }
   ],
   "source": [
    "lomutoPartition(A, lo, hi)"
   ]
  },
  {
   "cell_type": "markdown",
   "metadata": {},
   "source": [
    "## Quick sort \n",
    "\n",
    "#### The question is a generalization of find the median (n/2th smallest element)"
   ]
  },
  {
   "cell_type": "code",
   "execution_count": 27,
   "metadata": {},
   "outputs": [],
   "source": [
    "def quickSort(A, lo, hi, k):\n",
    "    s = lomutoPartition(A, lo, hi)              # partition accroding to the first element\n",
    "                                                # find which kth element is A[lo]\n",
    "    if k == s -lo+1:                            # since it starts with 0\n",
    "        return A[s]\n",
    "    else:\n",
    "        if k > s-lo+1:                          # kth is at the second half\n",
    "            return quickSort(A, s+1, hi, k-s-1)\n",
    "        else:\n",
    "            return quickSort(A, lo, s-1, k)"
   ]
  },
  {
   "cell_type": "markdown",
   "metadata": {},
   "source": [
    "complexity is n^2, worst case \n",
    "\n",
    "=> lomutoPartition has complexity of n, have another lomutoPartition in the recursive format"
   ]
  },
  {
   "cell_type": "code",
   "execution_count": 28,
   "metadata": {},
   "outputs": [],
   "source": [
    "A = [9, 3, 8, 41, 22, 23, 46]\n",
    "lo = 0\n",
    "hi = len(A)\n",
    "k = 6"
   ]
  },
  {
   "cell_type": "code",
   "execution_count": 29,
   "metadata": {},
   "outputs": [
    {
     "data": {
      "text/plain": [
       "41"
      ]
     },
     "execution_count": 29,
     "metadata": {},
     "output_type": "execute_result"
    }
   ],
   "source": [
    "quickSort(A, lo, hi, k)"
   ]
  }
 ],
 "metadata": {
  "kernelspec": {
   "display_name": "Python 3",
   "language": "python",
   "name": "python3"
  },
  "language_info": {
   "codemirror_mode": {
    "name": "ipython",
    "version": 3
   },
   "file_extension": ".py",
   "mimetype": "text/x-python",
   "name": "python",
   "nbconvert_exporter": "python",
   "pygments_lexer": "ipython3",
   "version": "3.7.1"
  }
 },
 "nbformat": 4,
 "nbformat_minor": 2
}
