{
 "cells": [
  {
   "cell_type": "markdown",
   "metadata": {},
   "source": [
    "## Binary search "
   ]
  },
  {
   "cell_type": "code",
   "execution_count": 1,
   "metadata": {},
   "outputs": [],
   "source": [
    "def binarySearch(A, n, k):\n",
    "    '''input A as sorted array, with length n\n",
    "    k is the key to search for'''\n",
    "    low = 0\n",
    "    high = n-1\n",
    "    mid = low + (high - low) //2\n",
    "    while low <= high:\n",
    "        if A[mid] == k:\n",
    "            return mid\n",
    "        else:\n",
    "            if A[mid] > k:\n",
    "                high = mid -1\n",
    "            else:\n",
    "                low = mid +1\n",
    "            mid = low + (high - low) //2\n",
    "    return -1\n",
    "    "
   ]
  },
  {
   "cell_type": "code",
   "execution_count": 2,
   "metadata": {},
   "outputs": [],
   "source": [
    "A = [1, 2, 3, 5, 7, 10]\n",
    "n = len(A)\n",
    "k = 6"
   ]
  },
  {
   "cell_type": "code",
   "execution_count": 3,
   "metadata": {},
   "outputs": [
    {
     "data": {
      "text/plain": [
       "-1"
      ]
     },
     "execution_count": 3,
     "metadata": {},
     "output_type": "execute_result"
    }
   ],
   "source": [
    "binarySearch(A, n, k)"
   ]
  },
  {
   "cell_type": "markdown",
   "metadata": {},
   "source": [
    "## Recursive binary search"
   ]
  },
  {
   "cell_type": "code",
   "execution_count": 4,
   "metadata": {},
   "outputs": [],
   "source": [
    "def binarySearch(A, low, high, k):\n",
    "        mid = low + (high- low)//2\n",
    "        if low > high:\n",
    "            return -1\n",
    "        if A[mid] == k:\n",
    "            return mid\n",
    "        else:\n",
    "            if A[mid] < k:\n",
    "                return binarySearch(A, mid+1, high, k)\n",
    "            else:\n",
    "                return binarySearch(A, low, mid-1, k)"
   ]
  },
  {
   "cell_type": "code",
   "execution_count": 5,
   "metadata": {},
   "outputs": [],
   "source": [
    "A = [1, 2, 3, 5, 7, 10]\n",
    "k = 6"
   ]
  },
  {
   "cell_type": "code",
   "execution_count": 6,
   "metadata": {},
   "outputs": [
    {
     "data": {
      "text/plain": [
       "-1"
      ]
     },
     "execution_count": 6,
     "metadata": {},
     "output_type": "execute_result"
    }
   ],
   "source": [
    "binarySearch(A, 0, len(A)-1, k)"
   ]
  }
 ],
 "metadata": {
  "kernelspec": {
   "display_name": "Python 3",
   "language": "python",
   "name": "python3"
  },
  "language_info": {
   "codemirror_mode": {
    "name": "ipython",
    "version": 3
   },
   "file_extension": ".py",
   "mimetype": "text/x-python",
   "name": "python",
   "nbconvert_exporter": "python",
   "pygments_lexer": "ipython3",
   "version": "3.7.1"
  }
 },
 "nbformat": 4,
 "nbformat_minor": 2
}
