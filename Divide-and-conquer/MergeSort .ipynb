{
 "cells": [
  {
   "cell_type": "markdown",
   "metadata": {},
   "source": [
    "### Helper function - merge"
   ]
  },
  {
   "cell_type": "code",
   "execution_count": 8,
   "metadata": {},
   "outputs": [],
   "source": [
    "# B & C are both sorted arrays\n",
    "def merge(B, p, C, q, A):      # n = p+ q\n",
    "    i = 0\n",
    "    j = 0\n",
    "    k = 0\n",
    "    while i < p and j < q:         # loop through both array B and array C\n",
    "        if B[i] < C[j]:            # find minimal(B[i], C[j])\n",
    "            A[k] = B[i]\n",
    "            i += 1\n",
    "        else:\n",
    "            A[k] = C[j]\n",
    "            j += 1\n",
    "        k += 1\n",
    "    if i == p:                     # finish looping through array B\n",
    "        while j < q:               # copy the rest of C into A\n",
    "            A[k] = C[j]\n",
    "            j += 1\n",
    "            k += 1\n",
    "    else:\n",
    "        while i < p:               # copy the rest of B into A\n",
    "            A[k] = B[i]\n",
    "            i += 1\n",
    "            k += 1\n",
    "    return A"
   ]
  },
  {
   "cell_type": "code",
   "execution_count": 9,
   "metadata": {},
   "outputs": [],
   "source": [
    "B = [2, 3, 8, 9]\n",
    "p = len(B)\n",
    "C = [1, 4, 5, 7]\n",
    "q = len(C)\n",
    "A = [0] * (p+q)"
   ]
  },
  {
   "cell_type": "code",
   "execution_count": 10,
   "metadata": {},
   "outputs": [
    {
     "data": {
      "text/plain": [
       "[1, 2, 3, 4, 5, 7, 8, 9]"
      ]
     },
     "execution_count": 10,
     "metadata": {},
     "output_type": "execute_result"
    }
   ],
   "source": [
    "merge(B, p, C, q, A)"
   ]
  },
  {
   "cell_type": "markdown",
   "metadata": {},
   "source": [
    "### Merge sort"
   ]
  },
  {
   "cell_type": "code",
   "execution_count": 11,
   "metadata": {},
   "outputs": [],
   "source": [
    "def mergeSort(A, n):\n",
    "    if n > 1:\n",
    "        B = [0] * (n//2)\n",
    "        C = [0] * (-(-n // 2))\n",
    "        for i in range(n//2 - 1):\n",
    "            B[i] = A[i]\n",
    "        for i in range(-(-n // 2) -1):\n",
    "            C[i] = A[n//2 + i]\n",
    "        mergeSort(B, n//2)\n",
    "        mergeSort(C, -(-n // 2))\n",
    "        merge(B, n//2, C, -(-n // 2), A)"
   ]
  },
  {
   "cell_type": "code",
   "execution_count": 12,
   "metadata": {},
   "outputs": [],
   "source": [
    "A= [8, 3, 2, 9, 7, 1, 5, 4]\n",
    "n = len(A)"
   ]
  },
  {
   "cell_type": "code",
   "execution_count": 13,
   "metadata": {},
   "outputs": [],
   "source": [
    "mergeSort(A, n) # Need to do more work here"
   ]
  }
 ],
 "metadata": {
  "kernelspec": {
   "display_name": "Python 3",
   "language": "python",
   "name": "python3"
  },
  "language_info": {
   "codemirror_mode": {
    "name": "ipython",
    "version": 3
   },
   "file_extension": ".py",
   "mimetype": "text/x-python",
   "name": "python",
   "nbconvert_exporter": "python",
   "pygments_lexer": "ipython3",
   "version": "3.7.1"
  }
 },
 "nbformat": 4,
 "nbformat_minor": 2
}
